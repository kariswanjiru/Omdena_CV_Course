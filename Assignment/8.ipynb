{
  "nbformat": 4,
  "nbformat_minor": 0,
  "metadata": {
    "colab": {
      "name": "8.ipynb",
      "provenance": [],
      "collapsed_sections": []
    },
    "kernelspec": {
      "name": "python3",
      "display_name": "Python 3"
    },
    "language_info": {
      "name": "python"
    }
  },
  "cells": [
    {
      "cell_type": "markdown",
      "source": [
        "# Object Localization & detection with tensorflow"
      ],
      "metadata": {
        "id": "zvYc8ZRMwgAr"
      }
    },
    {
      "cell_type": "markdown",
      "source": [
        "## Task 2: Download and Visualize Data\n"
      ],
      "metadata": {
        "id": "F-w_-mMPw3-Q"
      }
    },
    {
      "cell_type": "code",
      "execution_count": null,
      "metadata": {
        "id": "J-NJEcGIweTB"
      },
      "outputs": [],
      "source": [
        ""
      ]
    },
    {
      "cell_type": "markdown",
      "source": [
        "## Task 3: Create Examples"
      ],
      "metadata": {
        "id": "hlAPAO2Ww5UQ"
      }
    },
    {
      "cell_type": "code",
      "source": [
        ""
      ],
      "metadata": {
        "id": "4h0DFF2exDV5"
      },
      "execution_count": null,
      "outputs": []
    },
    {
      "cell_type": "markdown",
      "source": [
        "## Task 4: Plot Bounding Boxes"
      ],
      "metadata": {
        "id": "IhQrmPkExDty"
      }
    },
    {
      "cell_type": "code",
      "source": [
        ""
      ],
      "metadata": {
        "id": "uyi59snzxI3Q"
      },
      "execution_count": null,
      "outputs": []
    },
    {
      "cell_type": "markdown",
      "source": [
        "## Task 5: Data Generator"
      ],
      "metadata": {
        "id": "IOV0eduzxJbs"
      }
    },
    {
      "cell_type": "code",
      "source": [
        ""
      ],
      "metadata": {
        "id": "fBGixBahxPN_"
      },
      "execution_count": null,
      "outputs": []
    },
    {
      "cell_type": "markdown",
      "source": [
        "## Task 6: Model"
      ],
      "metadata": {
        "id": "MmJeJJ9_xPhP"
      }
    },
    {
      "cell_type": "code",
      "source": [
        ""
      ],
      "metadata": {
        "id": "hNxFQf-JxTc5"
      },
      "execution_count": null,
      "outputs": []
    },
    {
      "cell_type": "markdown",
      "source": [
        "## Task 7: Custom Metric: IoU"
      ],
      "metadata": {
        "id": "kVkep5DDxTyP"
      }
    },
    {
      "cell_type": "code",
      "source": [
        ""
      ],
      "metadata": {
        "id": "7nLOJ4FPxYSb"
      },
      "execution_count": null,
      "outputs": []
    },
    {
      "cell_type": "markdown",
      "source": [
        "## Task 8: Compile the Model"
      ],
      "metadata": {
        "id": "XKc8I6y6xY2W"
      }
    },
    {
      "cell_type": "code",
      "source": [
        ""
      ],
      "metadata": {
        "id": "FVRAw5-SxdP0"
      },
      "execution_count": null,
      "outputs": []
    },
    {
      "cell_type": "markdown",
      "source": [
        ""
      ],
      "metadata": {
        "id": "1hs5z_v8xdn_"
      }
    },
    {
      "cell_type": "code",
      "source": [
        ""
      ],
      "metadata": {
        "id": "LEL2mkDbxiKY"
      },
      "execution_count": null,
      "outputs": []
    },
    {
      "cell_type": "markdown",
      "source": [
        "## Task 9: Custom Callback: Model Testing"
      ],
      "metadata": {
        "id": "G7sPBVEBxivl"
      }
    },
    {
      "cell_type": "code",
      "source": [
        ""
      ],
      "metadata": {
        "id": "Q1Uc1jnTxjvQ"
      },
      "execution_count": null,
      "outputs": []
    },
    {
      "cell_type": "markdown",
      "source": [
        "## Task 10: Model Training"
      ],
      "metadata": {
        "id": "mzlNM4zkxkX7"
      }
    },
    {
      "cell_type": "code",
      "source": [
        ""
      ],
      "metadata": {
        "id": "p-WYRcmpxpNx"
      },
      "execution_count": null,
      "outputs": []
    }
  ]
}