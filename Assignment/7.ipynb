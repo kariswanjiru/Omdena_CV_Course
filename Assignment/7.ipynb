{
  "nbformat": 4,
  "nbformat_minor": 0,
  "metadata": {
    "colab": {
      "name": "7.ipynb",
      "provenance": [],
      "collapsed_sections": []
    },
    "kernelspec": {
      "name": "python3",
      "display_name": "Python 3"
    },
    "language_info": {
      "name": "python"
    }
  },
  "cells": [
    {
      "cell_type": "markdown",
      "source": [
        "# create a Neural Network model  & output the summary\n",
        "\n",
        "input_ = Input(shape = (144, 144, 3), name ='image')\n",
        "\n",
        "x = input_\n",
        "\n",
        "for i in range(0,5):\n",
        "  n_filters = 2**(4+i)\n",
        "  x = Conv2D(n_filters, 3 , activation = 'relu')(x)\n",
        "  x = BatchNormalization()(x)\n",
        "  x = MaxPool2D(2)(x)\n",
        "\n",
        "x = Flatten()(x)\n",
        "x = Dense (256, activation= 'relu')(x)\n",
        "\n",
        "class_out = Dense(9, activation = 'softmax', name = 'class_out')(x)\n",
        "box_out = Dense(2, name = 'box_out')(x)\n",
        "\n",
        "model = tf.keras.models.Model(input_, [class_out, box_out])\n",
        "# use this model as a sample"
      ],
      "metadata": {
        "id": "ZCnbBOCstv7f"
      }
    },
    {
      "cell_type": "code",
      "execution_count": null,
      "metadata": {
        "id": "BIQWhg7EtuG9"
      },
      "outputs": [],
      "source": [
        ""
      ]
    }
  ]
}